{
 "cells": [
  {
   "cell_type": "code",
   "execution_count": null,
   "metadata": {},
   "outputs": [],
   "source": [
    "import numpy as np\n",
    "import matplotlib.pyplot as plt\n",
    "%matplotlib inline "
   ]
  },
  {
   "cell_type": "markdown",
   "metadata": {},
   "source": [
    "Here, we look at current-based synapse described by the differential equation\n",
    "$$\\tau\\frac{dI(t)}{dt}=-I(t)+h\\cdot s(t),$$\n",
    "where $\\tau$ is the intrinsic synaptic time constant, $h$ is the synaptic efficacy and $s(t)$ represents the incoming spikes \n",
    "$$s(t)=\\sum_{i}\\delta(t-t_{i})$$\n",
    "The efficacy $h$ can be positive in case of an excitatory or negative in case of inhibitory synapse. Directly after a spike arrives, the current will make a jump by $h$ and than decay back to $0$ due to the leek term. "
   ]
  },
  {
   "cell_type": "markdown",
   "metadata": {},
   "source": [
    "In the following, we assume that $s(t)$ can be described by Poisson process with rate $\\lambda$, i.e. the interspike interval (ISI) are drawn from an exponential distribution \n",
    "$$\\text{ISI(}t)=\\lambda e^{-\\lambda t}$$"
   ]
  },
  {
   "cell_type": "code",
   "execution_count": null,
   "metadata": {},
   "outputs": [],
   "source": [
    "N = 1000 # number of trials\n",
    "T = 100 # recording time  \n",
    "lam = 0.1 # rate\n",
    "\n",
    "\n",
    "trials = []\n",
    "\n",
    "# record spike times for N trials\n",
    "for i in xrange(N):\n",
    "\n",
    "    t = np.random.exponential(1./lam) # occurance of first spike\n",
    "    \n",
    "    spike_times = []\n",
    "\n",
    "    while t < T: # record spike times until t > T\n",
    "    \n",
    "        spike_times.append(t)\n",
    "        t += np.random.exponential(1./lam) \n",
    "\n",
    "    trials.append(spike_times)\n",
    "\n",
    "# plot spike trains and number of spikes in each trial\n",
    "fig = plt.figure()\n",
    "ax0 = fig.add_subplot(1, 2, 1)  \n",
    "\n",
    "spike_counts = np.zeros(N)\n",
    "\n",
    "for i, trial in enumerate(trials):\n",
    "\n",
    "    ax0.plot(trial, i*np.ones_like(trial), 'o', color = 'b', markersize = 0.5)\n",
    "    spike_counts[i] = np.sum(trial)\n",
    "    \n",
    "ax0.set_xlabel('t')\n",
    "ax0.set_ylabel('trial')\n",
    "\n",
    "#ax1 = fig.add_subplot(1, 2, 2)\n",
    "\n",
    "#for i, trial in enumerate(trials):\n",
    "\n",
    "#    ax1.barh(np.arange(N), spike_counts, color = 'b', ecolor = 'k')\n",
    "\n",
    "plt.show()"
   ]
  },
  {
   "cell_type": "code",
   "execution_count": null,
   "metadata": {},
   "outputs": [],
   "source": []
  },
  {
   "cell_type": "code",
   "execution_count": null,
   "metadata": {},
   "outputs": [],
   "source": []
  }
 ],
 "metadata": {
  "kernelspec": {
   "display_name": "Python 2",
   "language": "python",
   "name": "python2"
  },
  "language_info": {
   "codemirror_mode": {
    "name": "ipython",
    "version": 2
   },
   "file_extension": ".py",
   "mimetype": "text/x-python",
   "name": "python",
   "nbconvert_exporter": "python",
   "pygments_lexer": "ipython2",
   "version": "2.7.15rc1"
  }
 },
 "nbformat": 4,
 "nbformat_minor": 2
}
