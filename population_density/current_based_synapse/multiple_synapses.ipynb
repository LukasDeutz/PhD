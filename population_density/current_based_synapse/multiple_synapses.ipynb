{
 "cells": [
  {
   "cell_type": "markdown",
   "metadata": {},
   "source": [
    "# Stationary firing rate  for EI-Network of Leaky-Integrate-and-Fire neurons with current-based synapses\n",
    "\n",
    "Here, we consider a two population network of Leaky-Integrate-and-Fire (LIF) neurons with one excitatory and one inhbitory population. Neurons receive on average $K_E$ excitatory and $K_I = g\\cdot K_E$ inhibtory connections. First, we look at the non realistic case that neurons are only connected by a single synapse. We will then consider the more realistic case that neurons connect via multiple synapses and investigate how this changes the results. <br> Singe neuron dynamics are described by \n",
    "\n",
    "\\begin{equation}\n",
    "\\frac{dV}{dt} = -\\frac{1}{\\tau_m }V + I,\n",
    "\\end{equation}\n",
    "\n",
    "where $\\tau_m$ is the membrane time constant and $I$ is the input current the neuron receives from within the network. The contribution from excitatory postsynaptic neurons will be denoted as $I_E$ and from postsynaptic inhibitory neurons $I_I$ such that $I=I_E+I_I$. The excitatory current $I_E$ is given by the superposition of all individual currents triggered by spikes from excitatory \n",
    "\n",
    "$I_{E}=\\sum_{k=1}^{N}I_{k}$\n",
    "\n",
    "\\begin{equation}\n",
    "\\frac{dI_{k}}{dt}=-\\tau_{E}I_{k}+h_{E}s_{k}(t),\n",
    "\\end{equation}\n",
    "\n",
    "Assuming, spike trains are independent.\n",
    "\n"
   ]
  },
  {
   "cell_type": "code",
   "execution_count": null,
   "metadata": {},
   "outputs": [],
   "source": []
  }
 ],
 "metadata": {
  "kernelspec": {
   "display_name": "Python 2",
   "language": "python",
   "name": "python2"
  },
  "language_info": {
   "codemirror_mode": {
    "name": "ipython",
    "version": 2
   },
   "file_extension": ".py",
   "mimetype": "text/x-python",
   "name": "python",
   "nbconvert_exporter": "python",
   "pygments_lexer": "ipython2"
  }
 },
 "nbformat": 4,
 "nbformat_minor": 2
}
